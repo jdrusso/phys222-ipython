{
 "metadata": {
  "name": "",
  "signature": "sha256:c43e8cc20fca0e862b80c2f67171a6f5dcfa98550b6798ec9646d0544b015cb2"
 },
 "nbformat": 3,
 "nbformat_minor": 0,
 "worksheets": [
  {
   "cells": [
    {
     "cell_type": "heading",
     "level": 1,
     "metadata": {},
     "source": [
      "Solving the Schrodinger Equation"
     ]
    },
    {
     "cell_type": "heading",
     "level": 3,
     "metadata": {},
     "source": [
      "Setting up Python"
     ]
    },
    {
     "cell_type": "code",
     "collapsed": false,
     "input": [
      "#import scipy as sci\n",
      "#import numpy as num\n",
      "#import sympy as sym\n",
      "from sympy.interactive import init_printing\n",
      "from sympy import Symbol, diff, var, sin\n",
      "init_printing()"
     ],
     "language": "python",
     "metadata": {},
     "outputs": [],
     "prompt_number": 39
    },
    {
     "cell_type": "heading",
     "level": 3,
     "metadata": {},
     "source": [
      "Background"
     ]
    },
    {
     "cell_type": "markdown",
     "metadata": {},
     "source": [
      "This notebook demonstrates using the Anaconda Python package distribution to solve a Schrodinger equation in 1-D.\n",
      "\n",
      "I make use of the algorithm outlined <a href =\n",
      "\"http://chemwiki.ucdavis.edu/Physical_Chemistry/Quantum_Mechanics/05.5%3A_Particle_in_Boxes/Particle_in_a_1-dimensional_box\"> here at UC Davis's website. </a>"
     ]
    },
    {
     "cell_type": "heading",
     "level": 2,
     "metadata": {},
     "source": [
      "Step 1. Defining the Potential Energy $V$"
     ]
    },
    {
     "cell_type": "markdown",
     "metadata": {},
     "source": [
      "We will assume an infinite potential well for this problem like the one displayed below, where the potential energy is 0 inside the box, and infinity at and beyond the walls of the box. In other words,\n",
      "$V=0$ for $0< x < L$ and $V=\\infty$ for $x < 0$ or $x > L$."
     ]
    },
    {
     "cell_type": "markdown",
     "metadata": {},
     "source": [
      "<img src=\"http://chemwiki.ucdavis.edu/@api/deki/files/9037/ParticleInABox.GIF?size=bestfit&width=295&height=193&revision=1\">"
     ]
    },
    {
     "cell_type": "heading",
     "level": 2,
     "metadata": {},
     "source": [
      "Step 2. Solving the Schrodinger Equation"
     ]
    },
    {
     "cell_type": "markdown",
     "metadata": {},
     "source": [
      "The time-independent Schrodinger equation for free motion in 1-D is\n",
      "$$-\\frac{\\hbar^{2}}{2m} \\frac{d^{2}\\psi(x)}{dx^{2}} = E\\psi(x)$$\n",
      "\n",
      "and a general solution to this is given by\n",
      "$$\\psi(x) = Asin(kx) + Bcos(kx)$$\n",
      "with constants $A$,$B$, and $k$."
     ]
    },
    {
     "cell_type": "heading",
     "level": 2,
     "metadata": {},
     "source": [
      "Step 3. Defining the Wavefunction"
     ]
    },
    {
     "cell_type": "markdown",
     "metadata": {},
     "source": [
      "Applying our boundary conditions to the general solution above, we know that since $\\psi(0)=\\psi(L)=0$, $B$ must be 0. Thus, $$\\psi=Asin(kx).$$ We can now solve for the constants."
     ]
    },
    {
     "cell_type": "code",
     "collapsed": false,
     "input": [
      "A = Symbol('A')\n",
      "k = Symbol('k')\n",
      "var('x')\n",
      "psi = A*sin(k*x)\n",
      "diff(psi, x, 2)"
     ],
     "language": "python",
     "metadata": {},
     "outputs": [
      {
       "latex": [
        "$$- A k^{2} \\sin{\\left (k x \\right )}$$"
       ],
       "metadata": {},
       "output_type": "pyout",
       "png": "[encoded data removed]",
       "prompt_number": 42,
       "text": [
        "    2         \n",
        "-A\u22c5k \u22c5sin(k\u22c5x)"
       ]
      }
     ],
     "prompt_number": 42
    },
    {
     "cell_type": "markdown",
     "metadata": {},
     "source": [
      "We can use Sympy to differentiate this, and give us "
     ]
    }
   ],
   "metadata": {}
  }
 ]
}