{
 "metadata": {
  "name": "",
  "signature": "sha256:fe292821861123925e1e9042a4ba14eba9841d7dddbcc8315824f5bdd9a1858f"
 },
 "nbformat": 3,
 "nbformat_minor": 0,
 "worksheets": [
  {
   "cells": [
    {
     "cell_type": "heading",
     "level": 1,
     "metadata": {},
     "source": [
      "Solving the Schrodinger Equation - Test"
     ]
    },
    {
     "cell_type": "heading",
     "level": 3,
     "metadata": {},
     "source": [
      "Setting up Python"
     ]
    },
    {
     "cell_type": "code",
     "collapsed": false,
     "input": [
      "from sympy.interactive import init_printing\n",
      "from sympy import Symbol, diff, var, sin, latex\n",
      "from IPython.display import display\n",
      "init_printing(use_latex='mathjax')"
     ],
     "language": "python",
     "metadata": {},
     "outputs": [],
     "prompt_number": 27
    },
    {
     "cell_type": "heading",
     "level": 3,
     "metadata": {},
     "source": [
      "Background"
     ]
    },
    {
     "cell_type": "markdown",
     "metadata": {},
     "source": [
      "This notebook demonstrates using the Anaconda Python package distribution to solve a Schrodinger equation in 1-D.\n",
      "\n",
      "I make use of the algorithm outlined <a href =\n",
      "\"http://chemwiki.ucdavis.edu/Physical_Chemistry/Quantum_Mechanics/05.5%3A_Particle_in_Boxes/Particle_in_a_1-dimensional_box\"> here at UC Davis's website. </a>"
     ]
    },
    {
     "cell_type": "heading",
     "level": 2,
     "metadata": {},
     "source": [
      "Step 1. Defining the Potential Energy $V$"
     ]
    },
    {
     "cell_type": "markdown",
     "metadata": {},
     "source": [
      "We will assume an infinite potential well for this problem like the one displayed below, where the potential energy is 0 inside the box, and infinity at and beyond the walls of the box. In other words,\n",
      "$V=0$ for $0< x < L$ and $V=\\infty$ for $x < 0$ or $x > L$."
     ]
    },
    {
     "cell_type": "markdown",
     "metadata": {},
     "source": [
      "<img src=\"http://chemwiki.ucdavis.edu/@api/deki/files/9037/ParticleInABox.GIF?size=bestfit&width=295&height=193&revision=1\">"
     ]
    },
    {
     "cell_type": "heading",
     "level": 2,
     "metadata": {},
     "source": [
      "Step 2. Solving the Schrodinger Equation"
     ]
    },
    {
     "cell_type": "markdown",
     "metadata": {},
     "source": [
      "The time-independent Schrodinger equation for free motion in 1-D is\n",
      "$$-\\frac{\\hbar^{2}}{2m} \\frac{d^{2}\\psi(x)}{dx^{2}} = E\\psi(x)$$\n",
      "\n",
      "and a general solution to this is given by\n",
      "$$\\psi(x) = A\\sin(kx) + B\\cos(kx)$$\n",
      "with constants $A$,$B$, and $k$.\n",
      "\n",
      "We can represent this in Python with"
     ]
    },
    {
     "cell_type": "code",
     "collapsed": false,
     "input": [
      "schrodinger = Eq()"
     ],
     "language": "python",
     "metadata": {},
     "outputs": []
    },
    {
     "cell_type": "heading",
     "level": 2,
     "metadata": {},
     "source": [
      "Step 3. Defining the Wavefunction"
     ]
    },
    {
     "cell_type": "markdown",
     "metadata": {},
     "source": [
      "Applying our boundary conditions to the general solution above, we know that since $\\psi(0)=\\psi(L)=0$, $B$ must be 0. Thus, $$\\psi=A\\sin(kx).$$\n",
      "We can use Sympy to differentiate this and give us"
     ]
    },
    {
     "cell_type": "code",
     "collapsed": false,
     "input": [
      "A,k = Symbol('A'), Symbol('k')\n",
      "var('x')\n",
      "psi = A*sin(k*x)\n",
      "a = diff(psi, x, 2)\n",
      "a"
     ],
     "language": "python",
     "metadata": {},
     "outputs": [
      {
       "latex": [
        "$$- A k^{2} \\sin{\\left (k x \\right )}$$"
       ],
       "metadata": {},
       "output_type": "pyout",
       "prompt_number": 37,
       "text": [
        "    2         \n",
        "-A\u22c5k \u22c5sin(k\u22c5x)"
       ]
      }
     ],
     "prompt_number": 37
    },
    {
     "cell_type": "markdown",
     "metadata": {},
     "source": [
      "$\\frac{d^{2}\\psi}{dx^{2}} = -Ak^{2}\\sin(kx)=k^{2}\\psi$"
     ]
    }
   ],
   "metadata": {}
  }
 ]
}