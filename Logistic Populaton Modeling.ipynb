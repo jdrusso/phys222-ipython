{
 "metadata": {
  "name": "",
  "signature": "sha256:5070b20302fdd5ff771076b896ee40fb0bba66e79a8192f614b282262f90bb10"
 },
 "nbformat": 3,
 "nbformat_minor": 0,
 "worksheets": [
  {
   "cells": [
    {
     "cell_type": "code",
     "collapsed": false,
     "input": [
      "%pylab inline"
     ],
     "language": "python",
     "metadata": {},
     "outputs": [
      {
       "output_type": "stream",
       "stream": "stdout",
       "text": [
        "Populating the interactive namespace from numpy and matplotlib\n"
       ]
      }
     ],
     "prompt_number": 26
    },
    {
     "cell_type": "code",
     "collapsed": false,
     "input": [
      "import numpy as np\n",
      "from matplotlib import pyplot as plt\n",
      "from matplotlib import animation\n",
      "from tempfile import NamedTemporaryFile\n",
      "\n",
      "VIDEO_TAG = \"\"\"<video controls>\n",
      " <source src=\"data:video/x-m4v;base64,{0}\" type=\"video/mp4\">\n",
      " Your browser does not support the video tag.\n",
      "</video>\"\"\"\n",
      "\n",
      "def anim_to_html(anim):\n",
      "    if not hasattr(anim, '_encoded_video'):\n",
      "        with NamedTemporaryFile(suffix='.mp4') as f:\n",
      "            mywriter = animation.AVConvWriter(fps=30)\n",
      "            anim.save(f.name, fps=30, writer=mywriter,extra_args=['-vcodev', 'libx264'])\n",
      "            video = open(f.name, \"rb\").read()\n",
      "        anim._encoded_video = video.encode(\"base64\")\n",
      "    \n",
      "    return VIDEO_TAG.format(anim._encoded_video)\n",
      "\n",
      "from IPython.display import HTML\n",
      "\n",
      "def display_animation(anim):\n",
      "    plt.close(anim._fig)\n",
      "    return HTML(anim_to_html(anim))"
     ],
     "language": "python",
     "metadata": {},
     "outputs": [],
     "prompt_number": 27
    },
    {
     "cell_type": "code",
     "collapsed": false,
     "input": [
      "animation.Animation._repr_html_ = anim_to_html"
     ],
     "language": "python",
     "metadata": {},
     "outputs": [],
     "prompt_number": 28
    },
    {
     "cell_type": "code",
     "collapsed": false,
     "input": [
      "#set up figure, axis, plot element, and text to animate\n",
      "fig = plt.figure()\n",
      "ax = plt.axes(xlim=(0,1), ylim=(0,1))\n",
      "line, = ax.plot([], [], lw=2)\n",
      "txt = ax.text(.9, .1, \"\", transform = ax.transAxes, ha=\"left\")\n",
      "\n",
      "#Defaults\n",
      "# x0 = .5\n",
      "# ri = 2\n",
      "# rf = 4\n",
      "# stepsize = .01\n",
      "\n",
      "#Get user values\n",
      "x0 = float(input(\"x0: \"))\n",
      "print(\"\\nFor a static graph, enter the same value for initial and final r.\")\n",
      "ri = float(input(\"Initial r: \"))\n",
      "rf = float(input(\"Final r: \"))\n",
      "\n",
      "time = 5 #animation time in seconds\n",
      "fps = 30\n",
      "\n",
      "#Calculate total number of frames\n",
      "frames = fps*time\n",
      "\n",
      "#Calculate interval between frames, in ms\n",
      "interval = int(time*1000 / frames)\n",
      "\n",
      "#Calculate step size for r\n",
      "stepsize = (rf - ri) / frames\n",
      "\n",
      "\n",
      "#this is what is drawn for a new, clear frame\n",
      "def init():\n",
      "    line.set_data([], [])\n",
      "\n",
      "    txt.set_text(\"\")\n",
      "\n",
      "    return line, txt\n",
      "\n",
      "#animation  function, called sequentially by FuncAnimation\n",
      "def animate(i):\n",
      "\n",
      "    #Calculate r value for this iteration\n",
      "    r = i*stepsize + ri\n",
      "\n",
      "    #Print the current r value\n",
      "    txt.set_text(\"r: %1.2f\" % r)\n",
      "\n",
      "    #Generate array of X-axis values\n",
      "    x = np.linspace(0,1,500)\n",
      "\n",
      "    #Calculate list of Y values\n",
      "    y = [x0]\n",
      "    #This list comprehension has a condensed version of\n",
      "    # x_(n+1) = r*x_n(1-x_n)\n",
      "    [ y.append((r*y[n-1]*(1-y[n-1]))) for n in range(len(x)-1)]\n",
      "\n",
      "    line.set_data(x,y)\n",
      "    return line, txt\n",
      "\n",
      "#call animator. blit only redraws changed elements\n",
      "#this is also a great example of python being a functional programming language!\n",
      "animation.FuncAnimation(fig, animate, init_func=init,\n",
      "    frames=frames, interval=interval, blit=True)\n",
      "\n",
      "\n",
      "#save the animation as mp4\n",
      "#Requires avconv\n",
      "#forces x264 to support HTML5 embedding.\n",
      "\n",
      "#UNCOMMENT THESE LINES FOR .MP4 ENCODING\n",
      "#mywriter = animation.AVConvWriter(fps=30)\n",
      "#anim.save('population_animation.mp4', writer=mywriter,extra_args=['-vcodev', 'libx264', '-verbose-debug'])\n",
      "#print(\"Done rendering animation!\")\n",
      "\n",
      "\n",
      "#plt.show()"
     ],
     "language": "python",
     "metadata": {},
     "outputs": [
      {
       "name": "stdout",
       "output_type": "stream",
       "stream": "stdout",
       "text": [
        "x0: .5\n"
       ]
      },
      {
       "output_type": "stream",
       "stream": "stdout",
       "text": [
        "\n",
        "For a static graph, enter the same value for initial and final r.\n"
       ]
      },
      {
       "name": "stdout",
       "output_type": "stream",
       "stream": "stdout",
       "text": [
        "Initial r: 2\n"
       ]
      },
      {
       "name": "stdout",
       "output_type": "stream",
       "stream": "stdout",
       "text": [
        "Final r: 4\n"
       ]
      }
     ]
    }
   ],
   "metadata": {}
  }
 ]
}