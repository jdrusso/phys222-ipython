{
 "metadata": {
  "name": "",
  "signature": "sha256:5dbaa6a9cb492d6585376572db037e9010a50c3f154800f729b41a70f32d58e5"
 },
 "nbformat": 3,
 "nbformat_minor": 0,
 "worksheets": [
  {
   "cells": [
    {
     "cell_type": "heading",
     "level": 1,
     "metadata": {},
     "source": [
      "Solving the Schrodinger Equation"
     ]
    },
    {
     "cell_type": "heading",
     "level": 3,
     "metadata": {},
     "source": [
      "Setting up Python"
     ]
    },
    {
     "cell_type": "code",
     "collapsed": false,
     "input": [
      "from sympy.interactive import init_printing\n",
      "from sympy import Symbol, diff, var, sin, latex\n",
      "from IPython.display import display\n",
      "init_printing(use_latex='mathjax')"
     ],
     "language": "python",
     "metadata": {},
     "outputs": [],
     "prompt_number": 27
    },
    {
     "cell_type": "heading",
     "level": 3,
     "metadata": {},
     "source": [
      "Background"
     ]
    },
    {
     "cell_type": "markdown",
     "metadata": {},
     "source": [
      "This notebook demonstrates using the Anaconda Python package distribution to solve a Schrodinger equation in 1-D.\n",
      "\n",
      "I make use of the algorithm outlined <a href =\n",
      "\"http://chemwiki.ucdavis.edu/Physical_Chemistry/Quantum_Mechanics/05.5%3A_Particle_in_Boxes/Particle_in_a_1-dimensional_box\"> here at UC Davis's website. </a>"
     ]
    },
    {
     "cell_type": "heading",
     "level": 2,
     "metadata": {},
     "source": [
      "Step 1. Defining the Potential Energy $V$"
     ]
    },
    {
     "cell_type": "markdown",
     "metadata": {},
     "source": [
      "We will assume an infinite potential well for this problem like the one displayed below, where the potential energy is 0 inside the box, and infinity at and beyond the walls of the box. In other words,\n",
      "$V=0$ for $0< x < L$ and $V=\\infty$ for $x < 0$ or $x > L$."
     ]
    },
    {
     "cell_type": "markdown",
     "metadata": {},
     "source": [
      "<img src=\"http://chemwiki.ucdavis.edu/@api/deki/files/9037/ParticleInABox.GIF?size=bestfit&width=295&height=193&revision=1\">"
     ]
    },
    {
     "cell_type": "heading",
     "level": 2,
     "metadata": {},
     "source": [
      "Step 2. Solving the Schrodinger Equation"
     ]
    },
    {
     "cell_type": "markdown",
     "metadata": {},
     "source": [
      "The time-independent Schrodinger equation for free motion in 1-D is\n",
      "$$-\\frac{\\hbar^{2}}{2m} \\frac{d^{2}\\psi(x)}{dx^{2}} = E\\psi(x)$$\n",
      "\n",
      "and a general solution to this is given by\n",
      "$$\\psi(x) = Asin(kx) + Bcos(kx)$$\n",
      "with constants $A$,$B$, and $k$."
     ]
    },
    {
     "cell_type": "heading",
     "level": 2,
     "metadata": {},
     "source": [
      "Step 3. Defining the Wavefunction"
     ]
    },
    {
     "cell_type": "markdown",
     "metadata": {},
     "source": [
      "Applying our boundary conditions to the general solution above, we know that since $\\psi(0)=\\psi(L)=0$, $B$ must be 0. Thus, $$\\psi=Asin(kx).$$\n",
      "We can use Sympy to differentiate this and give us"
     ]
    },
    {
     "cell_type": "code",
     "collapsed": false,
     "input": [
      "A,k = Symbol('A'), Symbol('k')\n",
      "var('x')\n",
      "psi = A*sin(k*x)\n",
      "diff(psi, x, 2)"
     ],
     "language": "python",
     "metadata": {},
     "outputs": [
      {
       "metadata": {},
       "output_type": "display_data",
       "text": [
        "'- A k^{2} \\\\sin{\\\\left (k x \\\\right )}'"
       ]
      }
     ],
     "prompt_number": 28
    }
   ],
   "metadata": {}
  }
 ]
}