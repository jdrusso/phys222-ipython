{
 "metadata": {
  "name": "",
  "signature": "sha256:0cf4fbc0ba1af72be43e3d9158989ee73eb6e1573f26f31df6869dfd121786d4"
 },
 "nbformat": 3,
 "nbformat_minor": 0,
 "worksheets": []
}