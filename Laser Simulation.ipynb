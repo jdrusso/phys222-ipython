{
 "metadata": {
  "name": "",
  "signature": "sha256:72964e5d7e3c9f45ca75118f259dfac74cfe3a77a36d3e540b754e5e697c1200"
 },
 "nbformat": 3,
 "nbformat_minor": 0,
 "worksheets": [
  {
   "cells": [
    {
     "cell_type": "heading",
     "level": 1,
     "metadata": {},
     "source": [
      "Efficacy of Lasers vs LEDs in Laser Tag Guns"
     ]
    },
    {
     "cell_type": "markdown",
     "metadata": {},
     "source": [
      "A rough analysis following our conversation about cost/effectiveness of LEDs vs lasers as laser tag gun emitters"
     ]
    },
    {
     "cell_type": "heading",
     "level": 3,
     "metadata": {},
     "source": [
      "Parameters"
     ]
    },
    {
     "cell_type": "markdown",
     "metadata": {},
     "source": [
      "The ideal emitter for a laser tag gun must fulfill a number of important criteria.\n",
      "\n",
      "In no particular order:\n",
      "1. Limited scattering over a distance of ~ 0 - 20m\n",
      "2. Low power consumption\n",
      "3. Safe output intensity"
     ]
    },
    {
     "cell_type": "heading",
     "level": 5,
     "metadata": {},
     "source": [
      "Scattering"
     ]
    },
    {
     "cell_type": "markdown",
     "metadata": {},
     "source": [
      "The emitter used must have negligible scattering over a moderate distance, including resistance to interference, esp. from the sun."
     ]
    },
    {
     "cell_type": "heading",
     "level": 5,
     "metadata": {},
     "source": [
      "Power"
     ]
    },
    {
     "cell_type": "heading",
     "level": 5,
     "metadata": {},
     "source": [
      "Safety"
     ]
    },
    {
     "cell_type": "code",
     "collapsed": false,
     "input": [
      "import numpy as np, matplotlib.pyplot as plt\n",
      " \n",
      "# ----------------------------------------------------------------\n",
      "#        simply draws a thin-lens at the provided location\n",
      "# parameters:\n",
      "#     - z:    location along the optical axis (in mm)\n",
      "#     - f:    focal length (in mm, can be negative if div. lens)\n",
      "#     - diam: lens diameter in mm\n",
      "#     - lbl:  label to identify the lens on the drawing\n",
      "# ----------------------------------------------------------------\n",
      "def add_lens(z, f, diam, lbl):\n",
      "    ww, tw, rad = diam / 10.0, diam/3.0, diam / 2.0\n",
      "    plt.plot([z, z],    [-rad, rad],                'k', linewidth=2)\n",
      "    plt.plot([z, z+tw], [-rad, -rad+np.sign(f)*ww], 'k', linewidth=2)\n",
      "    plt.plot([z, z-tw], [-rad, -rad+np.sign(f)*ww], 'k', linewidth=2)\n",
      "    plt.plot([z, z+tw], [ rad,  rad-np.sign(f)*ww], 'k', linewidth=2)\n",
      "    plt.plot([z, z-tw], [ rad,  rad-np.sign(f)*ww], 'k', linewidth=2)\n",
      "    plt.plot([z+f, z+f], [-ww,ww], 'k', linewidth=2)\n",
      "    plt.plot([z-f, z-f], [-ww,ww], 'k', linewidth=2)\n",
      "    plt.text(z,rad+5.0, lbl, fontsize=12)\n",
      "    plt.text(z,rad+2.0, 'f='+str(int(f)), fontsize=10)\n",
      " \n",
      "# ----------------------------------------------------------------------\n",
      "#      geometrical propagation of light rays from given source\n",
      "# parameters:\n",
      "#    - p0:  location of the source (z0, x0) along and off axis (in mm)\n",
      "#    - NA:  numerical aperture of the beam (in degrees)\n",
      "#    - nr:  number of rays to trace\n",
      "#    - zl:  array with the location of the lenses\n",
      "#    - ff:  array with the focal length of lenses\n",
      "#    - lbl: label for the nature of the source\n",
      "#    - col: color of the rays on plot\n",
      "# ----------------------------------------------------------------------\n",
      "def propagate_beam(p0, NA, nr, zl, ff, lbl='', col='b'):\n",
      "    apa = NA*np.pi/180.0\n",
      "    z0 = p0[0]\n",
      "    if (np.size(p0) == 2): x0 = p0[1]\n",
      "    else:                  x0 = 0.0\n",
      " \n",
      "    zl1, ff1 = zl[(z0 < zl)], ff[(z0 < zl)]\n",
      "    nl  = np.size(zl1) # number of lenses\n",
      " \n",
      "    zz, xx, tani = np.zeros(nl+2), np.zeros(nl+2), np.zeros(nl+2)\n",
      "    tan0 = np.tan(apa/2.0) - np.tan(apa) * np.arange(nr)/(nr-1)\n",
      " \n",
      "    for i in range(nr):\n",
      "        tani[0] = tan0[i] # initial incidence angle\n",
      "        zz[0], xx[0] = z0, x0\n",
      "        for j in range(nl):\n",
      "            zz[j+1]   = zl1[j]\n",
      "            xx[j+1]   = xx[j] + (zz[j+1]-zz[j]) * tani[j]\n",
      "            tani[j+1] = tani[j] - xx[j+1] / ff1[j]\n",
      " \n",
      "        zz[nl+1] = zmax\n",
      "        xx[nl+1] = xx[nl] + (zz[nl+1]-zz[nl]) * tani[nl]\n",
      "        plt.plot(zz, xx, col)\n",
      " \n",
      "# ----------------------------------------------------------------------\n",
      "#                            MAIN PROGRAM\n",
      "# ----------------------------------------------------------------------\n",
      "plt.clf()\n",
      " \n",
      "zmin, zmax       = -100., 1600.\n",
      "xmin, xmax       = -25, 25\n",
      "bignum, smallnum = 1e6, 1e-6   # all distances expressed in mm\n",
      " \n",
      "# ------------------------------------\n",
      "#   location + focal length of optics\n",
      "# ------------------------------------\n",
      "zl = np.array([250.0,450])# lens positions\n",
      "ff = np.array([250.0,-50])# lens focal length\n",
      " \n",
      "xsrc, zsrc, zpup = 2.0 , 0.0, -bignum # position of src and pupil\n",
      "srcpos = (zsrc, xsrc)\n",
      " \n",
      "#  draw the different beams\n",
      "# --------------------------\n",
      "propagate_beam((zpup,),    0.0005,  30, zl, ff, 'src1', 'r')\n",
      "#propagate_beam((0,),    12,  20, zl, ff, 'src1', 'g')\n",
      " \n",
      "#  print a labels\n",
      "plt.text(0, 14, 'laser', bbox=dict(facecolor='red',  alpha=1), fontsize=10)\n",
      " \n",
      "#      add the lenses\n",
      "# -------------------------\n",
      "for i in range(np.size(zl)):\n",
      "    add_lens(zl[i], ff[i], 25, \"L\"+str(i))\n",
      " \n",
      "#     plot optical axis\n",
      "# -------------------------\n",
      "plt.plot([zmin,zmax], [0,0], 'k')\n",
      "plt.axis([zmin,zmax, xmin, xmax])\n",
      "plt.title(\"Fig 1\")\n",
      "plt.show()"
     ],
     "language": "python",
     "metadata": {},
     "outputs": [
      {
       "metadata": {},
       "output_type": "display_data",
       "png": "[encoded data removed]",
       "text": [
        "<matplotlib.figure.Figure at 0x7f2eae714e80>"
       ]
      }
     ],
     "prompt_number": 82
    }
   ],
   "metadata": {}
  }
 ]
}