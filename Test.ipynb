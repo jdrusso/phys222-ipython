{
 "metadata": {
  "name": "",
  "signature": "sha256:fb0084331b7e73490258c9fdf0a6dad2571fa7c3a8f3489b128c8b4303cd2824"
 },
 "nbformat": 3,
 "nbformat_minor": 0,
 "worksheets": [
  {
   "cells": [
    {
     "cell_type": "code",
     "collapsed": false,
     "input": [
      "This notebook is a test."
     ],
     "language": "python",
     "metadata": {},
     "outputs": []
    }
   ],
   "metadata": {}
  }
 ]
}